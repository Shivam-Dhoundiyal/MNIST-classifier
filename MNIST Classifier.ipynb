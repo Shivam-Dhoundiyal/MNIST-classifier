{
 "cells": [
  {
   "cell_type": "markdown",
   "metadata": {},
   "source": [
    "# Classifier using PyTorch\n",
    "\n",
    "In this notebook we train an MLP classifier on the MINST dataset."
   ]
  },
  {
   "cell_type": "code",
   "execution_count": 4,
   "metadata": {
    "scrolled": true
   },
   "outputs": [],
   "source": [
    "import numpy as np\n",
    "import torch\n",
    "import torchvision\n",
    "from torch import nn, optim\n",
    "from torchvision import transforms, datasets\n",
    "import matplotlib.pyplot as plt\n",
    "\n",
    "# replace with your own root directory\n",
    "ROOT=\"./\""
   ]
  },
  {
   "cell_type": "markdown",
   "metadata": {},
   "source": [
    "Load the MNIST dataset. This will download a copy to your machine on first use. "
   ]
  },
  {
   "cell_type": "code",
   "execution_count": 5,
   "metadata": {},
   "outputs": [],
   "source": [
    "# Load the datasets\n",
    "train_set = torchvision.datasets.MNIST(\n",
    "    root='./data',\n",
    "    train=True,\n",
    "    download=True,\n",
    "    transform=transforms.ToTensor()\n",
    ")\n",
    "\n",
    "test_set = torchvision.datasets.MNIST(\n",
    "    root='./data',\n",
    "    train=False,\n",
    "    download=True,\n",
    "    transform=transforms.ToTensor()\n",
    ")"
   ]
  },
  {
   "cell_type": "markdown",
   "metadata": {},
   "source": [
    "Inspect some of the data."
   ]
  },
  {
   "cell_type": "code",
   "execution_count": 3,
   "metadata": {},
   "outputs": [
    {
     "name": "stdout",
     "output_type": "stream",
     "text": [
      "torch.Size([1, 28, 28])\n",
      "4\n"
     ]
    }
   ],
   "source": [
    "data, label = train_set[9]\n",
    "print(data.size())\n",
    "print(label)\n"
   ]
  },
  {
   "cell_type": "markdown",
   "metadata": {},
   "source": [
    "Create some iterable Data Loaders for easy iteration on mini-batches during training and testing. Also, initialise an array with the 10 class IDs."
   ]
  },
  {
   "cell_type": "code",
   "execution_count": 6,
   "metadata": {},
   "outputs": [
    {
     "name": "stdout",
     "output_type": "stream",
     "text": [
      "[0 1 2 3 4 5 6 7 8 9]\n"
     ]
    }
   ],
   "source": [
    "train_loader = torch.utils.data.DataLoader(\n",
    "    train_set,\n",
    "    batch_size=16,\n",
    "    shuffle=True,\n",
    "    num_workers=2\n",
    ")\n",
    "\n",
    "test_loader = torch.utils.data.DataLoader(\n",
    "    test_set,\n",
    "    batch_size=24, # Forward pass only so batch size can be larger\n",
    "    shuffle=False,\n",
    "    num_workers=2\n",
    ")\n",
    "\n",
    "classes = np.arange(0, 10)\n",
    "print(classes)"
   ]
  },
  {
   "cell_type": "markdown",
   "metadata": {},
   "source": [
    "Show some images and labels as a sanity check.\n",
    "Use `torchvision.utils.make_grid` to create one image from a set of images. Note that this function converts single channel (grey-scale) tensors to have three channels. This is done by replicating the values into red, green and blue channels."
   ]
  },
  {
   "cell_type": "code",
   "execution_count": 7,
   "metadata": {},
   "outputs": [
    {
     "name": "stdout",
     "output_type": "stream",
     "text": [
      "torch.Size([16, 1, 28, 28])\n"
     ]
    },
    {
     "data": {
      "image/png": "[encoded data removed]",
      "text/plain": [
       "<Figure size 432x288 with 1 Axes>"
      ]
     },
     "metadata": {
      "needs_background": "light"
     },
     "output_type": "display_data"
    },
    {
     "name": "stdout",
     "output_type": "stream",
     "text": [
      "1 3 0 6 0 5 2 8 1 5 7 2 0 6 3 9\n"
     ]
    }
   ],
   "source": [
    "def timshow(x):\n",
    "    xa = np.transpose(x.numpy(),(1,2,0))\n",
    "    plt.imshow(xa)\n",
    "    plt.axis('off')\n",
    "    plt.show()\n",
    "    return xa\n",
    "    \n",
    "# get a batch of random training examples (images and corresponding labels)\n",
    "dataiter = iter(train_loader)\n",
    "images, labels = dataiter.next()\n",
    "\n",
    "# show images and labels\n",
    "print(images.size())\n",
    "timshow(torchvision.utils.make_grid(images))\n",
    "print(*labels.numpy())     # asterisk unpacks the ndarray\n"
   ]
  },
  {
   "cell_type": "markdown",
   "metadata": {},
   "source": [
    "## Build a classifier\n",
    "Instead of defining the classifier function, loss function and parameter updates directly as we did in PyTorch.ipynb, it is convenient to use the `torch.nn` and `torch.optim` packages. These provide a simple way to build networks without losing sight of the iterative steps in gradient descent.\n",
    "\n",
    "First we construct the classifer function using the nn.Sequential wrapper that simply sequences the steps in the classifier function. In the case of a linear classifier there is just one nn.Linear layer. This is preceeded by `nn.Flatten` that vectorises a $28\\times28$ input image into a 1D vector of length $28*28$. We will also experiment with a two layer classifier."
   ]
  },
  {
   "cell_type": "code",
   "execution_count": 8,
   "metadata": {},
   "outputs": [
    {
     "name": "stdout",
     "output_type": "stream",
     "text": [
      "torch.Size([300, 784])\n",
      "torch.Size([300])\n",
      "torch.Size([10, 300])\n",
      "torch.Size([10])\n"
     ]
    }
   ],
   "source": [
    "net = nn.Sequential(\n",
    "    nn.Flatten(),\n",
    "    \n",
    "    # single layer\n",
    "    #nn.Linear(28*28, 10)\n",
    "    \n",
    "    # two layers\n",
    "    nn.Linear(28*28, 300),\n",
    "    nn.ReLU(),\n",
    "    nn.Linear(300,10)\n",
    ")\n",
    "\n",
    "for param in net.parameters():\n",
    "    print(param.shape)\n"
   ]
  },
  {
   "cell_type": "markdown",
   "metadata": {},
   "source": [
    "Train the network. For the two-layer network you'll need at least 200 epochs. 50 epochs will be more than enough for the one-layer network, but we'll run for the same number of epochs as for the two-layer network to give the full curve in the plot below."
   ]
  },
  {
   "cell_type": "code",
   "execution_count": 21,
   "metadata": {
    "collapsed": true,
    "jupyter": {
     "outputs_hidden": true
    },
    "tags": []
   },
   "outputs": [
    {
     "name": "stdout",
     "output_type": "stream",
     "text": [
      "epoch: 1 loss:  0.625\n",
      "epoch: 2 loss:  0.306\n",
      "epoch: 3 loss:  0.257\n",
      "epoch: 4 loss:  0.221\n",
      "epoch: 5 loss:  0.194\n",
      "epoch: 6 loss:  0.172\n",
      "epoch: 7 loss:  0.154\n",
      "epoch: 8 loss:  0.140\n",
      "epoch: 9 loss:  0.127\n",
      "epoch: 10 loss:  0.117\n",
      "epoch: 11 loss:  0.108\n",
      "epoch: 12 loss:  0.100\n",
      "epoch: 13 loss:  0.094\n",
      "epoch: 14 loss:  0.088\n",
      "epoch: 15 loss:  0.083\n",
      "epoch: 16 loss:  0.078\n",
      "epoch: 17 loss:  0.074\n",
      "epoch: 18 loss:  0.070\n",
      "epoch: 19 loss:  0.066\n",
      "epoch: 20 loss:  0.063\n",
      "epoch: 21 loss:  0.060\n",
      "epoch: 22 loss:  0.057\n",
      "epoch: 23 loss:  0.054\n",
      "epoch: 24 loss:  0.052\n",
      "epoch: 25 loss:  0.050\n",
      "epoch: 26 loss:  0.047\n",
      "epoch: 27 loss:  0.045\n",
      "epoch: 28 loss:  0.043\n",
      "epoch: 29 loss:  0.042\n",
      "epoch: 30 loss:  0.040\n",
      "epoch: 31 loss:  0.038\n",
      "epoch: 32 loss:  0.037\n",
      "epoch: 33 loss:  0.036\n",
      "epoch: 34 loss:  0.034\n",
      "epoch: 35 loss:  0.033\n",
      "epoch: 36 loss:  0.032\n",
      "epoch: 37 loss:  0.031\n",
      "epoch: 38 loss:  0.029\n",
      "epoch: 39 loss:  0.028\n",
      "epoch: 40 loss:  0.027\n",
      "epoch: 41 loss:  0.026\n",
      "epoch: 42 loss:  0.026\n",
      "epoch: 43 loss:  0.025\n",
      "epoch: 44 loss:  0.024\n",
      "epoch: 45 loss:  0.023\n",
      "epoch: 46 loss:  0.022\n",
      "epoch: 47 loss:  0.022\n",
      "epoch: 48 loss:  0.021\n",
      "epoch: 49 loss:  0.020\n",
      "epoch: 50 loss:  0.020\n",
      "epoch: 51 loss:  0.019\n",
      "epoch: 52 loss:  0.018\n",
      "epoch: 53 loss:  0.018\n",
      "epoch: 54 loss:  0.017\n",
      "epoch: 55 loss:  0.017\n",
      "epoch: 56 loss:  0.016\n",
      "epoch: 57 loss:  0.016\n",
      "epoch: 58 loss:  0.015\n",
      "epoch: 59 loss:  0.015\n",
      "epoch: 60 loss:  0.014\n",
      "epoch: 61 loss:  0.014\n",
      "epoch: 62 loss:  0.014\n",
      "epoch: 63 loss:  0.013\n",
      "epoch: 64 loss:  0.013\n",
      "epoch: 65 loss:  0.012\n",
      "epoch: 66 loss:  0.012\n",
      "epoch: 67 loss:  0.012\n",
      "epoch: 68 loss:  0.012\n",
      "epoch: 69 loss:  0.011\n",
      "epoch: 70 loss:  0.011\n",
      "epoch: 71 loss:  0.011\n",
      "epoch: 72 loss:  0.010\n",
      "epoch: 73 loss:  0.010\n",
      "epoch: 74 loss:  0.010\n",
      "epoch: 75 loss:  0.010\n",
      "epoch: 76 loss:  0.009\n",
      "epoch: 77 loss:  0.009\n",
      "epoch: 78 loss:  0.009\n",
      "epoch: 79 loss:  0.009\n",
      "epoch: 80 loss:  0.009\n",
      "epoch: 81 loss:  0.008\n",
      "epoch: 82 loss:  0.008\n",
      "epoch: 83 loss:  0.008\n",
      "epoch: 84 loss:  0.008\n",
      "epoch: 85 loss:  0.008\n",
      "epoch: 86 loss:  0.008\n",
      "epoch: 87 loss:  0.007\n",
      "epoch: 88 loss:  0.007\n",
      "epoch: 89 loss:  0.007\n",
      "epoch: 90 loss:  0.007\n",
      "epoch: 91 loss:  0.007\n",
      "epoch: 92 loss:  0.007\n",
      "epoch: 93 loss:  0.006\n",
      "epoch: 94 loss:  0.006\n",
      "epoch: 95 loss:  0.006\n",
      "epoch: 96 loss:  0.006\n",
      "epoch: 97 loss:  0.006\n",
      "epoch: 98 loss:  0.006\n",
      "epoch: 99 loss:  0.006\n",
      "epoch: 100 loss:  0.006\n",
      "epoch: 101 loss:  0.006\n",
      "epoch: 102 loss:  0.005\n",
      "epoch: 103 loss:  0.005\n",
      "epoch: 104 loss:  0.005\n",
      "epoch: 105 loss:  0.005\n",
      "epoch: 106 loss:  0.005\n",
      "epoch: 107 loss:  0.005\n",
      "epoch: 108 loss:  0.005\n",
      "epoch: 109 loss:  0.005\n",
      "epoch: 110 loss:  0.005\n",
      "epoch: 111 loss:  0.005\n",
      "epoch: 112 loss:  0.005\n",
      "epoch: 113 loss:  0.005\n",
      "epoch: 114 loss:  0.004\n",
      "epoch: 115 loss:  0.004\n",
      "epoch: 116 loss:  0.004\n",
      "epoch: 117 loss:  0.004\n",
      "epoch: 118 loss:  0.004\n",
      "epoch: 119 loss:  0.004\n",
      "epoch: 120 loss:  0.004\n",
      "epoch: 121 loss:  0.004\n",
      "epoch: 122 loss:  0.004\n",
      "epoch: 123 loss:  0.004\n",
      "epoch: 124 loss:  0.004\n",
      "epoch: 125 loss:  0.004\n",
      "epoch: 126 loss:  0.004\n",
      "epoch: 127 loss:  0.004\n",
      "epoch: 128 loss:  0.004\n",
      "epoch: 129 loss:  0.004\n",
      "epoch: 130 loss:  0.004\n",
      "epoch: 131 loss:  0.003\n",
      "epoch: 132 loss:  0.003\n",
      "epoch: 133 loss:  0.003\n",
      "epoch: 134 loss:  0.003\n",
      "epoch: 135 loss:  0.003\n",
      "epoch: 136 loss:  0.003\n",
      "epoch: 137 loss:  0.003\n",
      "epoch: 138 loss:  0.003\n",
      "epoch: 139 loss:  0.003\n",
      "epoch: 140 loss:  0.003\n",
      "epoch: 141 loss:  0.003\n",
      "epoch: 142 loss:  0.003\n",
      "epoch: 143 loss:  0.003\n",
      "epoch: 144 loss:  0.003\n",
      "epoch: 145 loss:  0.003\n",
      "epoch: 146 loss:  0.003\n",
      "epoch: 147 loss:  0.003\n",
      "epoch: 148 loss:  0.003\n",
      "epoch: 149 loss:  0.003\n",
      "epoch: 150 loss:  0.003\n",
      "epoch: 151 loss:  0.003\n",
      "epoch: 152 loss:  0.003\n",
      "epoch: 153 loss:  0.003\n",
      "epoch: 154 loss:  0.003\n",
      "epoch: 155 loss:  0.003\n",
      "epoch: 156 loss:  0.003\n",
      "epoch: 157 loss:  0.003\n",
      "epoch: 158 loss:  0.003\n",
      "epoch: 159 loss:  0.003\n",
      "epoch: 160 loss:  0.002\n",
      "epoch: 161 loss:  0.002\n",
      "epoch: 162 loss:  0.002\n",
      "epoch: 163 loss:  0.002\n",
      "epoch: 164 loss:  0.002\n",
      "epoch: 165 loss:  0.002\n",
      "epoch: 166 loss:  0.002\n",
      "epoch: 167 loss:  0.002\n",
      "epoch: 168 loss:  0.002\n",
      "epoch: 169 loss:  0.002\n",
      "epoch: 170 loss:  0.002\n",
      "epoch: 171 loss:  0.002\n",
      "epoch: 172 loss:  0.002\n",
      "epoch: 173 loss:  0.002\n",
      "epoch: 174 loss:  0.002\n",
      "epoch: 175 loss:  0.002\n",
      "epoch: 176 loss:  0.002\n",
      "epoch: 177 loss:  0.002\n",
      "epoch: 178 loss:  0.002\n",
      "epoch: 179 loss:  0.002\n",
      "epoch: 180 loss:  0.002\n",
      "epoch: 181 loss:  0.002\n",
      "epoch: 182 loss:  0.002\n",
      "epoch: 183 loss:  0.002\n",
      "epoch: 184 loss:  0.002\n",
      "epoch: 185 loss:  0.002\n",
      "epoch: 186 loss:  0.002\n",
      "epoch: 187 loss:  0.002\n",
      "epoch: 188 loss:  0.002\n",
      "epoch: 189 loss:  0.002\n",
      "epoch: 190 loss:  0.002\n",
      "epoch: 191 loss:  0.002\n",
      "epoch: 192 loss:  0.002\n",
      "epoch: 193 loss:  0.002\n",
      "epoch: 194 loss:  0.002\n",
      "epoch: 195 loss:  0.002\n",
      "epoch: 196 loss:  0.002\n",
      "epoch: 197 loss:  0.002\n",
      "epoch: 198 loss:  0.002\n",
      "epoch: 199 loss:  0.002\n",
      "epoch: 200 loss:  0.002\n"
     ]
    }
   ],
   "source": [
    "nepochs = 200    # number of epochs\n",
    "results_path = ROOT + 'data/results/linear2layer200epochs.pt'\n",
    "\n",
    "# initialise ndarray to store the mean loss in each epoch (on the training data)\n",
    "losses = np.zeros(nepochs)\n",
    "\n",
    "# Use a loss function and optimiser provided as part of PyTorch.\n",
    "# The chosen optimiser (Stochastic Gradient Descent with momentum) needs only to be given the parameters (weights and biases)\n",
    "# of the network and updates these when asked to perform an optimisation step below.\n",
    "loss_fn = nn.CrossEntropyLoss()\n",
    "optimizer = optim.SGD(net.parameters(), lr=0.001, momentum=0.9)\n",
    "\n",
    "for epoch in range(nepochs):  # loop over the dataset multiple times\n",
    "\n",
    "    # initialise variables for mean loss calculation\n",
    "    running_loss = 0.0\n",
    "    n = 0\n",
    "    \n",
    "    for data in train_loader:\n",
    "        inputs, labels = data\n",
    "        \n",
    "        # Zero the parameter gradients to remove accumulated gradient from a previous iteration.\n",
    "        optimizer.zero_grad()\n",
    "\n",
    "        # Forward, backward, and update parameters\n",
    "        outputs = net(inputs)\n",
    "        loss = loss_fn(outputs, labels)\n",
    "        loss.backward()\n",
    "        optimizer.step()\n",
    "    \n",
    "        # accumulate loss and increment minibatches\n",
    "        running_loss += loss.item()\n",
    "        n += 1\n",
    "       \n",
    "    # record the mean loss for this epoch and show progress\n",
    "    losses[epoch] = running_loss / n\n",
    "    print(f\"epoch: {epoch+1} loss: {losses[epoch] : .3f}\")\n",
    "    \n",
    "#save network parameters and losses\n",
    "torch.save({\"state_dict\": net.state_dict(), \"losses\": losses}, results_path)\n",
    "   "
   ]
  },
  {
   "cell_type": "markdown",
   "metadata": {},
   "source": [
    "Notice that the first dimension of inputs and outputs corresponds to a minibatch of examples."
   ]
  },
  {
   "cell_type": "code",
   "execution_count": 9,
   "metadata": {},
   "outputs": [
    {
     "ename": "NameError",
     "evalue": "name 'inputs' is not defined",
     "output_type": "error",
     "traceback": [
      "\u001b[0;31m---------------------------------------------------------------------------\u001b[0m",
      "\u001b[0;31mNameError\u001b[0m                                 Traceback (most recent call last)",
      "\u001b[0;32m/var/folders/z9/3z2hn7yx20d993zq6c4s0d340000gn/T/ipykernel_2861/3266073180.py\u001b[0m in \u001b[0;36m<module>\u001b[0;34m\u001b[0m\n\u001b[0;32m----> 1\u001b[0;31m \u001b[0mprint\u001b[0m\u001b[0;34m(\u001b[0m\u001b[0;34mf\"input size: {inputs.size()}, output size: {outputs.size()}\"\u001b[0m\u001b[0;34m)\u001b[0m\u001b[0;34m\u001b[0m\u001b[0;34m\u001b[0m\u001b[0m\n\u001b[0m",
      "\u001b[0;31mNameError\u001b[0m: name 'inputs' is not defined"
     ]
    }
   ],
   "source": [
    "print(f\"input size: {inputs.size()}, output size: {outputs.size()}\")"
   ]
  },
  {
   "cell_type": "markdown",
   "metadata": {},
   "source": [
    "Compare the history of the loss function during training (mean loss in each epoch) for 1 and 2 layer models"
   ]
  },
  {
   "cell_type": "code",
   "execution_count": 10,
   "metadata": {},
   "outputs": [
    {
     "data": {
      "image/png": "[encoded data removed]",
      "text/plain": [
       "<Figure size 432x288 with 1 Axes>"
      ]
     },
     "metadata": {
      "needs_background": "light"
     },
     "output_type": "display_data"
    }
   ],
   "source": [
    "d1 = torch.load('./data/results/linear1layer200epochs.pt')\n",
    "d2 = torch.load('./data/results/linear2layer200epochs.pt')\n",
    "\n",
    "fig = plt.figure()\n",
    "\n",
    "plt.plot(d1[\"losses\"], 'r', label = '1 layer', )\n",
    "plt.plot(d2[\"losses\"], 'g', label = '2 layers' )\n",
    "plt.legend()\n",
    "plt.xlabel('epoch')\n",
    "plt.ylabel('loss')\n",
    "plt.title('Training loss for 1 and 2 layer classifiers')\n",
    "\n",
    "fig.savefig(\"training_loss_MNIST.svg\")\n",
    "plt.show()"
   ]
  },
  {
   "cell_type": "markdown",
   "metadata": {},
   "source": [
    "How does the trained classifier `net` perform on the test set? First define our performance measures in terms of a given confusion matrix."
   ]
  },
  {
   "cell_type": "code",
   "execution_count": 30,
   "metadata": {},
   "outputs": [],
   "source": [
    "def accuracy(cnfm):\n",
    "    return cnfm.trace()/cnfm.sum((0,1))\n",
    "\n",
    "def recalls(cnfm):\n",
    "    return np.diag(cnfm)/cnfm.sum(1)\n",
    "\n",
    "def precisions(cnfm):\n",
    "    return np.diag(cnfm)/cnfm.sum(0)    "
   ]
  },
  {
   "cell_type": "markdown",
   "metadata": {},
   "source": [
    "Run the model on test data, build a confusion matrix and compute performance measures."
   ]
  },
  {
   "cell_type": "code",
   "execution_count": 28,
   "metadata": {},
   "outputs": [
    {
     "ename": "TypeError",
     "evalue": "only size-1 arrays can be converted to Python scalars",
     "output_type": "error",
     "traceback": [
      "\u001b[0;31m---------------------------------------------------------------------------\u001b[0m",
      "\u001b[0;31mTypeError\u001b[0m                                 Traceback (most recent call last)",
      "\u001b[0;32m/var/folders/z9/3z2hn7yx20d993zq6c4s0d340000gn/T/ipykernel_2861/609795310.py\u001b[0m in \u001b[0;36m<module>\u001b[0;34m\u001b[0m\n\u001b[1;32m     25\u001b[0m \u001b[0;31m# print(\"Confusion matrix\")\u001b[0m\u001b[0;34m\u001b[0m\u001b[0;34m\u001b[0m\u001b[0;34m\u001b[0m\u001b[0m\n\u001b[1;32m     26\u001b[0m \u001b[0;31m# for i in range (0,10):\u001b[0m\u001b[0;34m\u001b[0m\u001b[0;34m\u001b[0m\u001b[0;34m\u001b[0m\u001b[0m\n\u001b[0;32m---> 27\u001b[0;31m \u001b[0mcnfm\u001b[0m\u001b[0;34m[\u001b[0m\u001b[0;36m0\u001b[0m\u001b[0;34m]\u001b[0m\u001b[0;34m=\u001b[0m\u001b[0;34m(\u001b[0m\u001b[0mfloat\u001b[0m\u001b[0;34m(\u001b[0m\u001b[0mcnfm\u001b[0m\u001b[0;34m[\u001b[0m\u001b[0;36m0\u001b[0m\u001b[0;34m]\u001b[0m\u001b[0;34m)\u001b[0m\u001b[0;34m/\u001b[0m\u001b[0mfloat\u001b[0m\u001b[0;34m(\u001b[0m\u001b[0msum\u001b[0m\u001b[0;34m(\u001b[0m\u001b[0mcnfm\u001b[0m\u001b[0;34m[\u001b[0m\u001b[0;36m0\u001b[0m\u001b[0;34m]\u001b[0m\u001b[0;34m)\u001b[0m\u001b[0;34m)\u001b[0m\u001b[0;34m)\u001b[0m\u001b[0;34m*\u001b[0m\u001b[0;36m100\u001b[0m\u001b[0;34m\u001b[0m\u001b[0;34m\u001b[0m\u001b[0m\n\u001b[0m\u001b[1;32m     28\u001b[0m \u001b[0;31m# print(cnfm)\u001b[0m\u001b[0;34m\u001b[0m\u001b[0;34m\u001b[0m\u001b[0;34m\u001b[0m\u001b[0m\n\u001b[1;32m     29\u001b[0m \u001b[0;31m# # show confusion matrix as a grey-level image\u001b[0m\u001b[0;34m\u001b[0m\u001b[0;34m\u001b[0m\u001b[0;34m\u001b[0m\u001b[0m\n",
      "\u001b[0;31mTypeError\u001b[0m: only size-1 arrays can be converted to Python scalars"
     ]
    }
   ],
   "source": [
    "d = torch.load(ROOT+'data/results/linear2layer200epochs.pt')\n",
    "# now load the parameter state into the current model (make sure this is the right model).\n",
    "net.load_state_dict(d[\"state_dict\"])\n",
    "\n",
    "# initialise confusion matrix\n",
    "nclasses = classes.shape[0]\n",
    "cnfm = np.zeros((nclasses,nclasses),dtype=int)\n",
    "\n",
    "# work without gradient computation since we are testing (i.e. no optimisation)\n",
    "with torch.no_grad():\n",
    "    for data in test_loader:\n",
    "        images, labels = data\n",
    "        outputs = net(images)\n",
    "        \n",
    "        # find the class with the highest output.\n",
    "        # note that the outputs are confidence values since we didn't need to apply softmax in our network\n",
    "        # (nn.crossentropyloss takes raw condifence values and does its own softmax)   \n",
    "        _, predicted = torch.max(outputs, 1)    \n",
    "       \n",
    "        \n",
    "        # accumulate into confusion matrix\n",
    "        for i in range(labels.size(0)):\n",
    "            cnfm[labels[i].item(),predicted[i].item()] += 1\n",
    "              \n",
    "print(\"Confusion matrix\")\n",
    "for i in range (0,30):\n",
    "    cnfm[i]=(cnfm[i]/sum(cnfm[i]))*100\n",
    "print(cnfm)\n",
    "# show confusion matrix as a grey-level image\n",
    "plt.imshow(cnfm, cmap='gray')\n",
    "\n",
    "# show per-class recall and precision\n",
    "print(f\"Accuracy: {accuracy(cnfm) :.1%}\")\n",
    "r = recalls(cnfm)\n",
    "p = precisions(cnfm)\n",
    "for i in range(nclasses):\n",
    "    print(f\"Class {classes[i]} : Precision {p[i] :.1%}  Recall {r[i] :.1%}\")\n"
   ]
  },
  {
   "cell_type": "markdown",
   "metadata": {},
   "source": [
    "## Defining a bespoke model class\n",
    "\n",
    "In the above, we have used the 'container' module `nn.Sequential` to define our network. To give more flexibility in the definition of the network, we can replace this with our own `nn.module` as below. Notice here, we have used this flexibility to perform the flattening ourselves instead of using `nn.Flatten` - this will be more efficient."
   ]
  },
  {
   "cell_type": "code",
   "execution_count": 3,
   "metadata": {},
   "outputs": [
    {
     "name": "stdout",
     "output_type": "stream",
     "text": [
      "Classifier(\n",
      "  (fc1): Linear(in_features=784, out_features=10, bias=True)\n",
      ")\n"
     ]
    }
   ],
   "source": [
    "class Classifier(nn.Module):\n",
    "    \n",
    "    def __init__(self, num_classes=10):\n",
    "        super(Classifier, self).__init__()\n",
    "        self.fc1 = nn.Linear(28 * 28, num_classes)\n",
    "        \n",
    "    def forward(self, x):\n",
    "        out = x.reshape(x.size(0), -1) # flatten the input\n",
    "        out = self.fc1(out)\n",
    "        return out\n",
    "    \n",
    "net = Classifier()\n",
    "print(net)"
   ]
  },
  {
   "cell_type": "markdown",
   "metadata": {},
   "source": [
    "## Exercise\n",
    "Experiment with the impact on accuracy of (1) adding a third fully-connected linear layer to the network and (2) replacing `nn.Sigmoid` by `nn.ReLU`."
   ]
  },
  {
   "cell_type": "code",
   "execution_count": null,
   "metadata": {},
   "outputs": [],
   "source": []
  }
 ],
 "metadata": {
  "kernelspec": {
   "display_name": "Python 3 (ipykernel)",
   "language": "python",
   "name": "python3"
  },
  "language_info": {
   "codemirror_mode": {
    "name": "ipython",
    "version": 3
   },
   "file_extension": ".py",
   "mimetype": "text/x-python",
   "name": "python",
   "nbconvert_exporter": "python",
   "pygments_lexer": "ipython3",
   "version": "3.9.6"
  }
 },
 "nbformat": 4,
 "nbformat_minor": 4
}
